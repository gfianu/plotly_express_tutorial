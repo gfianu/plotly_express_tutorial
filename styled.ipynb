{
 "cells": [
  {
   "cell_type": "code",
   "execution_count": null,
   "metadata": {},
   "outputs": [],
   "source": [
    "import plotly.express as px\n",
    "\n",
    "df = px.data.gapminder().query(\"year == 2007\")\n",
    "\n",
    "fig = px.scatter(df, y=\"lifeExp\", x=\"gdpPercap\", color=\"continent\", log_x=True, size=\"pop\", size_max=60,\n",
    "                 hover_name=\"country\", height=600, width=1000, template=\"simple_white\", \n",
    "                 color_discrete_sequence=px.colors.qualitative.G10,\n",
    "                 title=\"Health vs Wealth 2007\",\n",
    "                 labels=dict(\n",
    "                     continent=\"Continent\", pop=\"Population\",\n",
    "                     gdpPercap=\"GDP per Capita (US$, price-adjusted)\", \n",
    "                     lifeExp=\"Life Expectancy (years)\"))\n",
    "\n",
    "fig.update_layout(font_family=\"Rockwell\",\n",
    "                  legend=dict(orientation=\"h\", title=\"\", y=1.1, x=1, xanchor=\"right\", yanchor=\"bottom\"))\n",
    "fig.update_xaxes(tickprefix=\"$\", range=[2,5], dtick=1)\n",
    "fig.update_yaxes(range=[30,90])\n",
    "fig.add_hline((df[\"lifeExp\"]*df[\"pop\"]).sum()/df[\"pop\"].sum(), line_width=1, line_dash=\"dot\")\n",
    "fig.add_vline((df[\"gdpPercap\"]*df[\"pop\"]).sum()/df[\"pop\"].sum(), line_width=1, line_dash=\"dot\")\n",
    "fig.show()\n",
    "\n",
    "fig.write_image(\"gapminder_2007.svg\") # static export\n",
    "fig.write_html(\"gapminder_2007.html\") # interactive export\n",
    "fig.write_json(\"gapminder_2007.json\") # serialized export"
   ]
  },
  {
   "cell_type": "code",
   "execution_count": null,
   "metadata": {},
   "outputs": [],
   "source": []
  }
 ],
 "metadata": {
  "kernelspec": {
   "display_name": "Python 3",
   "language": "python",
   "name": "python3"
  },
  "language_info": {
   "codemirror_mode": {
    "name": "ipython",
    "version": 3
   },
   "file_extension": ".py",
   "mimetype": "text/x-python",
   "name": "python",
   "nbconvert_exporter": "python",
   "pygments_lexer": "ipython3",
   "version": "3.7.7"
  }
 },
 "nbformat": 4,
 "nbformat_minor": 4
}
